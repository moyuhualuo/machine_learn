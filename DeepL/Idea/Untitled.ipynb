{
 "cells": [
  {
   "cell_type": "markdown",
   "id": "246f05ee-c2fb-4555-804b-0a71eadc2367",
   "metadata": {},
   "source": [
    "## 处理多帧图片数据方法具体代码实现\n",
    "- 处理数据csv文件，根据残差区别数据差别\n",
    "- $Loss(x_i) = \\sum{(x_i - x_{i + 1})^2}$"
   ]
  },
  {
   "cell_type": "code",
   "execution_count": 8,
   "id": "d88613eb-2f8a-47a8-81e4-a172b35d4a06",
   "metadata": {},
   "outputs": [
    {
     "name": "stdout",
     "output_type": "stream",
     "text": [
      "100\n",
      "25\n",
      "1600\n",
      "None\n"
     ]
    }
   ],
   "source": [
    "import numpy as np\n",
    "\n",
    "def get_loss(data_line):\n",
    "    # 默认data_line 为 一组图片数据, shape = 2 维度\n",
    "    # m rows， n cols\n",
    "    n = len(data_line[0])\n",
    "    m = len(data_line)\n",
    "\n",
    "    for i in range(1, m):\n",
    "        for j in range(n):\n",
    "            sum_loss = 0\n",
    "            sum_loss += (data_line[i][j] - data_line[i - 1][j]) ** 2\n",
    "        print(sum_loss)\n",
    "\n",
    "test_ls = [\n",
    "    [89, 5, 10, 11, 10],\n",
    "    [88, 6, 9, 11, 20],\n",
    "    [75, 6, 1, 6, 15],\n",
    "    [10, 5, 6, 123, 55]\n",
    "]\n",
    "print(get_loss(test_ls))"
   ]
  },
  {
   "cell_type": "code",
   "execution_count": null,
   "id": "e7c7e513-8702-47b7-b58a-e466de302156",
   "metadata": {},
   "outputs": [],
   "source": []
  }
 ],
 "metadata": {
  "kernelspec": {
   "display_name": "Python 3 (ipykernel)",
   "language": "python",
   "name": "python3"
  },
  "language_info": {
   "codemirror_mode": {
    "name": "ipython",
    "version": 3
   },
   "file_extension": ".py",
   "mimetype": "text/x-python",
   "name": "python",
   "nbconvert_exporter": "python",
   "pygments_lexer": "ipython3",
   "version": "3.12.4"
  }
 },
 "nbformat": 4,
 "nbformat_minor": 5
}
