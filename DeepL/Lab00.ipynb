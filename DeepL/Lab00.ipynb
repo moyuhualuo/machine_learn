{
 "cells": [
  {
   "cell_type": "code",
   "execution_count": 1,
   "id": "2436167e-88b6-4d3f-9ae2-598c6dff0aaf",
   "metadata": {},
   "outputs": [
    {
     "name": "stdout",
     "output_type": "stream",
     "text": [
      "Downloading http://fashion-mnist.s3-website.eu-central-1.amazonaws.com/train-images-idx3-ubyte.gz\n",
      "Downloading http://fashion-mnist.s3-website.eu-central-1.amazonaws.com/train-images-idx3-ubyte.gz to ./data\\FashionMNIST\\raw\\train-images-idx3-ubyte.gz\n"
     ]
    },
    {
     "name": "stderr",
     "output_type": "stream",
     "text": [
      "100%|█████████████████████████████████████████████████████████████████| 26421880/26421880 [00:15<00:00, 1725375.75it/s]\n"
     ]
    },
    {
     "name": "stdout",
     "output_type": "stream",
     "text": [
      "Extracting ./data\\FashionMNIST\\raw\\train-images-idx3-ubyte.gz to ./data\\FashionMNIST\\raw\n",
      "\n",
      "Downloading http://fashion-mnist.s3-website.eu-central-1.amazonaws.com/train-labels-idx1-ubyte.gz\n",
      "Downloading http://fashion-mnist.s3-website.eu-central-1.amazonaws.com/train-labels-idx1-ubyte.gz to ./data\\FashionMNIST\\raw\\train-labels-idx1-ubyte.gz\n"
     ]
    },
    {
     "name": "stderr",
     "output_type": "stream",
     "text": [
      "100%|████████████████████████████████████████████████████████████████████████| 29515/29515 [00:00<00:00, 135383.43it/s]\n"
     ]
    },
    {
     "name": "stdout",
     "output_type": "stream",
     "text": [
      "Extracting ./data\\FashionMNIST\\raw\\train-labels-idx1-ubyte.gz to ./data\\FashionMNIST\\raw\n",
      "\n",
      "Downloading http://fashion-mnist.s3-website.eu-central-1.amazonaws.com/t10k-images-idx3-ubyte.gz\n",
      "Downloading http://fashion-mnist.s3-website.eu-central-1.amazonaws.com/t10k-images-idx3-ubyte.gz to ./data\\FashionMNIST\\raw\\t10k-images-idx3-ubyte.gz\n"
     ]
    },
    {
     "name": "stderr",
     "output_type": "stream",
     "text": [
      "100%|███████████████████████████████████████████████████████████████████| 4422102/4422102 [00:01<00:00, 2707972.88it/s]\n"
     ]
    },
    {
     "name": "stdout",
     "output_type": "stream",
     "text": [
      "Extracting ./data\\FashionMNIST\\raw\\t10k-images-idx3-ubyte.gz to ./data\\FashionMNIST\\raw\n",
      "\n",
      "Downloading http://fashion-mnist.s3-website.eu-central-1.amazonaws.com/t10k-labels-idx1-ubyte.gz\n",
      "Downloading http://fashion-mnist.s3-website.eu-central-1.amazonaws.com/t10k-labels-idx1-ubyte.gz to ./data\\FashionMNIST\\raw\\t10k-labels-idx1-ubyte.gz\n"
     ]
    },
    {
     "name": "stderr",
     "output_type": "stream",
     "text": [
      "100%|█████████████████████████████████████████████████████████████████████████| 5148/5148 [00:00<00:00, 5099734.76it/s]"
     ]
    },
    {
     "name": "stdout",
     "output_type": "stream",
     "text": [
      "Extracting ./data\\FashionMNIST\\raw\\t10k-labels-idx1-ubyte.gz to ./data\\FashionMNIST\\raw\n",
      "\n"
     ]
    },
    {
     "name": "stderr",
     "output_type": "stream",
     "text": [
      "\n"
     ]
    }
   ],
   "source": [
    "import torch\n",
    "import torch.nn as nn\n",
    "import torch.optim as optim\n",
    "import torchvision\n",
    "import torchvision.transforms as transforms\n",
    "\n",
    "# 1. 数据预处理和加载\n",
    "transform = transforms.Compose([transforms.ToTensor(), transforms.Normalize((0.5,), (0.5,))])\n",
    "\n",
    "trainset = torchvision.datasets.FashionMNIST(root='./data', train=True, download=True, transform=transform)\n",
    "trainloader = torch.utils.data.DataLoader(trainset, batch_size=64, shuffle=True)\n",
    "\n",
    "testset = torchvision.datasets.FashionMNIST(root='./data', train=False, download=True, transform=transform)\n",
    "testloader = torch.utils.data.DataLoader(testset, batch_size=64, shuffle=False)"
   ]
  },
  {
   "cell_type": "markdown",
   "id": "6c76688b-5c17-40b2-a934-2eb1aec5eaa3",
   "metadata": {},
   "source": [
    "以上代码下载的数据集为FashinMNIST，有`10`个标签，依次为：\n",
    "```python\n",
    "0: T-shirt/top\n",
    "1: Trouser\n",
    "2: Pullover\n",
    "3: Dress\n",
    "4: Coat\n",
    "5: Sandal\n",
    "6: Shirt\n",
    "7: Sneaker\n",
    "8: Bag\n",
    "9: Ankle boot\n",
    "```\n"
   ]
  },
  {
   "cell_type": "code",
   "execution_count": null,
   "id": "898f8e2d-def2-40b8-829b-d03ca287d674",
   "metadata": {},
   "outputs": [],
   "source": [
    "下面的代码可能运行10分钟，使用的GPU如下信息如下。"
   ]
  },
  {
   "cell_type": "code",
   "execution_count": null,
   "id": "6d03bbf8-7eed-4d5a-ae3e-29f3ba0f60af",
   "metadata": {},
   "outputs": [],
   "source": [
    "import torch\n",
    "\n",
    "# 检测是否有可用的 GPU\n",
    "device = torch.device(\"cuda\" if torch.cuda.is_available() else \"cpu\")\n",
    "\n",
    "# 输出当前设备是 CPU 还是 GPU\n",
    "print(f'Using device: {device}')\n",
    "\n",
    "# 如果使用 GPU，还可以查看 GPU 的信息\n",
    "if torch.cuda.is_available():\n",
    "    print(torch.cuda.get_device_name(0))  # 输出 GPU 名称"
   ]
  },
  {
   "cell_type": "code",
   "execution_count": 20,
   "id": "c08aa930-f7d1-48f7-a163-2a4f459aad71",
   "metadata": {},
   "outputs": [
    {
     "name": "stdout",
     "output_type": "stream",
     "text": [
      "Epoch [1/10], Loss: 1.8241\n",
      "Epoch [2/10], Loss: 0.9848\n",
      "Epoch [3/10], Loss: 0.7343\n",
      "Epoch [4/10], Loss: 0.6488\n",
      "Epoch [5/10], Loss: 0.6031\n",
      "Epoch [6/10], Loss: 0.5708\n",
      "Epoch [7/10], Loss: 0.5447\n",
      "Epoch [8/10], Loss: 0.5222\n",
      "Epoch [9/10], Loss: 0.5034\n",
      "Epoch [10/10], Loss: 0.4879\n",
      "Accuracy: 81.53%\n"
     ]
    }
   ],
   "source": [
    "class SimpleNet(nn.Module):\n",
    "    def __init__(self):\n",
    "        super(SimpleNet, self).__init__()\n",
    "        # 输入层（784），隐藏层1（128），隐藏层2（64），输出层（10 类）\n",
    "        self.fc1 = nn.Linear(28 * 28, 128)  # W1, b1\n",
    "        self.fc2 = nn.Linear(128, 64)       # W2, b2\n",
    "        self.fc3 = nn.Linear(64, 10)        # W3, b3\n",
    "    \n",
    "    def forward(self, x):\n",
    "        x = x.view(-1, 28 * 28)  # 将28x28的图像拉伸为1维\n",
    "        x = torch.sigmoid(self.fc1(x))  # 激活函数 Sigmoid\n",
    "        x = torch.relu(self.fc2(x))  # 激活函数 ReLU\n",
    "        x = self.fc3(x)  # 输出层没有激活，因为我们使用了损失函数CrossEntropyLoss\n",
    "        return x\n",
    "\n",
    "model = SimpleNet()\n",
    "criterion = nn.CrossEntropyLoss()  # 使用交叉熵损失函数\n",
    "optimizer = optim.SGD(model.parameters(), lr=0.01)  # 使用随机梯度下降，学习率为0.01\n",
    "num_epochs = 10  # 训练5个轮次\n",
    "\n",
    "for epoch in range(num_epochs):\n",
    "    running_loss = 0.0\n",
    "    for images, labels in trainloader:\n",
    "        # 清除梯度\n",
    "        optimizer.zero_grad()\n",
    "        \n",
    "        # 前向传播\n",
    "        outputs = model(images)\n",
    "        loss = criterion(outputs, labels)\n",
    "        \n",
    "        # 反向传播\n",
    "        loss.backward()\n",
    "        \n",
    "        # 更新参数\n",
    "        optimizer.step()\n",
    "        \n",
    "        running_loss += loss.item()\n",
    "    \n",
    "    print(f'Epoch [{epoch+1}/{num_epochs}], Loss: {running_loss/len(trainloader):.4f}')\n",
    "\n",
    "# 5. 测试网络\n",
    "correct = 0\n",
    "total = 0\n",
    "with torch.no_grad():\n",
    "    for images, labels in testloader:\n",
    "        outputs = model(images)\n",
    "        _, predicted = torch.max(outputs, 1)\n",
    "        total += labels.size(0)\n",
    "        correct += (predicted == labels).sum().item()\n",
    "\n",
    "print(f'Accuracy: {100 * correct / total}%')\n",
    "\n",
    "torch.save(model.state_dict(), 'simple_net.pth')"
   ]
  },
  {
   "cell_type": "code",
   "execution_count": 29,
   "id": "9cc8bf64-f6fd-4ff7-ad39-7291d1333466",
   "metadata": {},
   "outputs": [
    {
     "name": "stderr",
     "output_type": "stream",
     "text": [
      "C:\\Users\\86151\\AppData\\Local\\Temp\\ipykernel_13396\\299425768.py:4: FutureWarning: You are using `torch.load` with `weights_only=False` (the current default value), which uses the default pickle module implicitly. It is possible to construct malicious pickle data which will execute arbitrary code during unpickling (See https://github.com/pytorch/pytorch/blob/main/SECURITY.md#untrusted-models for more details). In a future release, the default value for `weights_only` will be flipped to `True`. This limits the functions that could be executed during unpickling. Arbitrary objects will no longer be allowed to be loaded via this mode unless they are explicitly allowlisted by the user via `torch.serialization.add_safe_globals`. We recommend you start setting `weights_only=True` for any use case where you don't have full control of the loaded file. Please open an issue on GitHub for any issues related to this experimental feature.\n",
      "  model.load_state_dict(torch.load(r\"D:\\machine_learning\\DeepL\\model\\simple_net.pth\"))\n"
     ]
    },
    {
     "data": {
      "text/plain": [
       "SimpleNet(\n",
       "  (fc1): Linear(in_features=784, out_features=128, bias=True)\n",
       "  (fc2): Linear(in_features=128, out_features=64, bias=True)\n",
       "  (fc3): Linear(in_features=64, out_features=10, bias=True)\n",
       ")"
      ]
     },
     "execution_count": 29,
     "metadata": {},
     "output_type": "execute_result"
    }
   ],
   "source": [
    "# 创建模型实例\n",
    "model = SimpleNet()\n",
    "# 加载模型参数\n",
    "model.load_state_dict(torch.load(r\"D:\\machine_learning\\DeepL\\model\\simple_net.pth\"))\n",
    "model.eval()  # 设置为评估模式"
   ]
  },
  {
   "cell_type": "code",
   "execution_count": 30,
   "id": "202c4d12-8bc8-45fc-bef8-3dd1098dee47",
   "metadata": {},
   "outputs": [
    {
     "name": "stdout",
     "output_type": "stream",
     "text": [
      "Predicted class: 8\n"
     ]
    }
   ],
   "source": [
    "from PIL import Image\n",
    "import torchvision.transforms as transforms\n",
    "\n",
    "# 定义图片预处理\n",
    "transform = transforms.Compose([\n",
    "    transforms.Grayscale(),  # 转为灰度图\n",
    "    transforms.Resize((28, 28)),  # 调整为28x28\n",
    "    transforms.ToTensor(),  # 转换为Tensor\n",
    "    transforms.Normalize((0.5,), (0.5,))  # 归一化\n",
    "])\n",
    "\n",
    "# 加载图片并预处理\n",
    "image = Image.open(r\"D:\\machine_learning\\DeepL\\img\\dress.jpg\")  # 替换为你的图片路径\n",
    "image = transform(image).unsqueeze(0)  # 添加批次维度\n",
    "\n",
    "# 进行预测\n",
    "with torch.no_grad():\n",
    "    output = model(image)\n",
    "    _, predicted = torch.max(output, 1)\n",
    "\n",
    "# 输出预测结果\n",
    "print(f'Predicted class: {predicted.item()}')\n"
   ]
  },
  {
   "cell_type": "markdown",
   "id": "24f16bf3-62cc-4ad7-86b7-3af4a53c6378",
   "metadata": {},
   "source": [
    "很显然，预测失败，训练的程度已经很好了，接下来就是超参数训练"
   ]
  },
  {
   "cell_type": "markdown",
   "id": "f86586dd-6212-4f07-882d-d5252cc6e250",
   "metadata": {},
   "source": [
    "*Created by Liu* `2024/10/15 19:30`"
   ]
  },
  {
   "cell_type": "code",
   "execution_count": null,
   "id": "1df58617-c1d6-4bc5-9494-0999041c773f",
   "metadata": {},
   "outputs": [],
   "source": []
  }
 ],
 "metadata": {
  "kernelspec": {
   "display_name": "Python 3 (ipykernel)",
   "language": "python",
   "name": "python3"
  },
  "language_info": {
   "codemirror_mode": {
    "name": "ipython",
    "version": 3
   },
   "file_extension": ".py",
   "mimetype": "text/x-python",
   "name": "python",
   "nbconvert_exporter": "python",
   "pygments_lexer": "ipython3",
   "version": "3.12.4"
  }
 },
 "nbformat": 4,
 "nbformat_minor": 5
}
